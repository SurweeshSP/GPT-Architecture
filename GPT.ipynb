{
 "cells": [
  {
   "cell_type": "code",
   "execution_count": null,
   "id": "bbdb5f07-1436-430f-a9e5-0dbebc81aad1",
   "metadata": {},
   "outputs": [],
   "source": [
    "'''\n",
    "\n",
    "\n",
    "GPT-2 consists of multiple Transformer decoder blocks stacked together. The main components are:\n",
    "\n",
    "(i) Input Embeddings\n",
    "Token Embedding: Converts input tokens into dense vectors.\n",
    "Positional Embedding: Adds positional information since transformers don't have inherent sequential understanding.\n",
    "(ii) Transformer Blocks (Repeated N Times)\n",
    "Each transformer block consists of:\n",
    "\n",
    "Multi-Head Self-Attention (MHSA) – Computes attention scores between all tokens in a sequence.\n",
    "Feedforward Network (FFN) – Applies two dense layers with activation functions.\n",
    "Layer Normalization – Normalizes activations to prevent instability.\n",
    "Dropout – Regularization to avoid overfitting.\n",
    "(iii) Output Layer\n",
    "A final dense layer projects outputs to vocabulary size for token prediction.\n",
    "Softmax converts logits to probabilities.\n",
    "\n",
    "\n",
    "GPT-2 Architecture Diagram\n",
    "mathematica\n",
    "Copy\n",
    "Edit\n",
    "Input Token Sequence → [Token Embedding] + [Positional Embedding]  \n",
    "    ↓  \n",
    "[Transformer Block 1] → [Transformer Block 2] → ... → [Transformer Block N]  \n",
    "    ↓  \n",
    "Final Dense Layer → Output Probabilities (Next Token Prediction)\n",
    "Each Transformer Block consists of:\n",
    "\n",
    "css\n",
    "Copy\n",
    "Edit\n",
    "[Input] → [Multi-Head Self Attention] → [Layer Normalization] → [Feed Forward NN] → [Layer Normalization] → [Output]\n",
    "\n",
    "\n",
    "\n",
    "GPT-2 Model Hyperparameters (Different Variants)\n",
    "\n",
    "Model\t      Layers\tHeads\tEmbedding Size\tParameters\n",
    "GPT-2 Small\t   12\t    12\t      768\t          124M\n",
    "GPT-2 Medium   24\t    16\t     1024\t          355M\n",
    "GPT-2 Large\t   36\t    20\t     1280 \t          774M\n",
    "GPT-2 XL\t   48\t    25\t     1600             1.5B'''\n",
    "\n",
    "\n",
    "\n",
    "#Making invalid relationships zero by adding a large negative value: Mask\n"
   ]
  },
  {
   "cell_type": "code",
   "execution_count": 16,
   "id": "3f025217-a5d9-4fac-b44e-53c6a8184ea3",
   "metadata": {},
   "outputs": [
    {
     "data": {
      "text/html": [
       "<pre style=\"white-space:pre;overflow-x:auto;line-height:normal;font-family:Menlo,'DejaVu Sans Mono',consolas,'Courier New',monospace\"><span style=\"font-weight: bold\">Model: \"functional_2\"</span>\n",
       "</pre>\n"
      ],
      "text/plain": [
       "\u001b[1mModel: \"functional_2\"\u001b[0m\n"
      ]
     },
     "metadata": {},
     "output_type": "display_data"
    },
    {
     "data": {
      "text/html": [
       "<pre style=\"white-space:pre;overflow-x:auto;line-height:normal;font-family:Menlo,'DejaVu Sans Mono',consolas,'Courier New',monospace\">┏━━━━━━━━━━━━━━━━━━━━━━━━━━━━━━━━━━━━━━┳━━━━━━━━━━━━━━━━━━━━━━━━━━━━━┳━━━━━━━━━━━━━━━━━┓\n",
       "┃<span style=\"font-weight: bold\"> Layer (type)                         </span>┃<span style=\"font-weight: bold\"> Output Shape                </span>┃<span style=\"font-weight: bold\">         Param # </span>┃\n",
       "┡━━━━━━━━━━━━━━━━━━━━━━━━━━━━━━━━━━━━━━╇━━━━━━━━━━━━━━━━━━━━━━━━━━━━━╇━━━━━━━━━━━━━━━━━┩\n",
       "│ input_layer_8 (<span style=\"color: #0087ff; text-decoration-color: #0087ff\">InputLayer</span>)           │ (<span style=\"color: #00d7ff; text-decoration-color: #00d7ff\">None</span>, <span style=\"color: #00af00; text-decoration-color: #00af00\">1027</span>)                │               <span style=\"color: #00af00; text-decoration-color: #00af00\">0</span> │\n",
       "├──────────────────────────────────────┼─────────────────────────────┼─────────────────┤\n",
       "│ gpt2_5 (<span style=\"color: #0087ff; text-decoration-color: #0087ff\">GPT2</span>)                        │ (<span style=\"color: #00af00; text-decoration-color: #00af00\">1027</span>, <span style=\"color: #00af00; text-decoration-color: #00af00\">1027</span>, <span style=\"color: #00af00; text-decoration-color: #00af00\">3027</span>)          │      <span style=\"color: #00af00; text-decoration-color: #00af00\">90,497,235</span> │\n",
       "└──────────────────────────────────────┴─────────────────────────────┴─────────────────┘\n",
       "</pre>\n"
      ],
      "text/plain": [
       "┏━━━━━━━━━━━━━━━━━━━━━━━━━━━━━━━━━━━━━━┳━━━━━━━━━━━━━━━━━━━━━━━━━━━━━┳━━━━━━━━━━━━━━━━━┓\n",
       "┃\u001b[1m \u001b[0m\u001b[1mLayer (type)                        \u001b[0m\u001b[1m \u001b[0m┃\u001b[1m \u001b[0m\u001b[1mOutput Shape               \u001b[0m\u001b[1m \u001b[0m┃\u001b[1m \u001b[0m\u001b[1m        Param #\u001b[0m\u001b[1m \u001b[0m┃\n",
       "┡━━━━━━━━━━━━━━━━━━━━━━━━━━━━━━━━━━━━━━╇━━━━━━━━━━━━━━━━━━━━━━━━━━━━━╇━━━━━━━━━━━━━━━━━┩\n",
       "│ input_layer_8 (\u001b[38;5;33mInputLayer\u001b[0m)           │ (\u001b[38;5;45mNone\u001b[0m, \u001b[38;5;34m1027\u001b[0m)                │               \u001b[38;5;34m0\u001b[0m │\n",
       "├──────────────────────────────────────┼─────────────────────────────┼─────────────────┤\n",
       "│ gpt2_5 (\u001b[38;5;33mGPT2\u001b[0m)                        │ (\u001b[38;5;34m1027\u001b[0m, \u001b[38;5;34m1027\u001b[0m, \u001b[38;5;34m3027\u001b[0m)          │      \u001b[38;5;34m90,497,235\u001b[0m │\n",
       "└──────────────────────────────────────┴─────────────────────────────┴─────────────────┘\n"
      ]
     },
     "metadata": {},
     "output_type": "display_data"
    },
    {
     "data": {
      "text/html": [
       "<pre style=\"white-space:pre;overflow-x:auto;line-height:normal;font-family:Menlo,'DejaVu Sans Mono',consolas,'Courier New',monospace\"><span style=\"font-weight: bold\"> Total params: </span><span style=\"color: #00af00; text-decoration-color: #00af00\">90,497,235</span> (345.22 MB)\n",
       "</pre>\n"
      ],
      "text/plain": [
       "\u001b[1m Total params: \u001b[0m\u001b[38;5;34m90,497,235\u001b[0m (345.22 MB)\n"
      ]
     },
     "metadata": {},
     "output_type": "display_data"
    },
    {
     "data": {
      "text/html": [
       "<pre style=\"white-space:pre;overflow-x:auto;line-height:normal;font-family:Menlo,'DejaVu Sans Mono',consolas,'Courier New',monospace\"><span style=\"font-weight: bold\"> Trainable params: </span><span style=\"color: #00af00; text-decoration-color: #00af00\">90,497,235</span> (345.22 MB)\n",
       "</pre>\n"
      ],
      "text/plain": [
       "\u001b[1m Trainable params: \u001b[0m\u001b[38;5;34m90,497,235\u001b[0m (345.22 MB)\n"
      ]
     },
     "metadata": {},
     "output_type": "display_data"
    },
    {
     "data": {
      "text/html": [
       "<pre style=\"white-space:pre;overflow-x:auto;line-height:normal;font-family:Menlo,'DejaVu Sans Mono',consolas,'Courier New',monospace\"><span style=\"font-weight: bold\"> Non-trainable params: </span><span style=\"color: #00af00; text-decoration-color: #00af00\">0</span> (0.00 B)\n",
       "</pre>\n"
      ],
      "text/plain": [
       "\u001b[1m Non-trainable params: \u001b[0m\u001b[38;5;34m0\u001b[0m (0.00 B)\n"
      ]
     },
     "metadata": {},
     "output_type": "display_data"
    }
   ],
   "source": [
    "import tensorflow as tf\n",
    "from tensorflow.keras.layers import Layer, Embedding, Dense, LayerNormalization, Dropout\n",
    "from tensorflow.keras import Model\n",
    "\n",
    "# MultiHead Self Attention \n",
    "class MultiHeadSelfAttention(Layer):\n",
    "    def __init__(self, embed_dim, num_heads):\n",
    "        super().__init__()\n",
    "        self.embed_dim = embed_dim\n",
    "        self.num_heads = num_heads\n",
    "        self.att_head_size = embed_dim // num_heads\n",
    "        \n",
    "        self.wq = Dense(embed_dim)\n",
    "        self.wk = Dense(embed_dim)\n",
    "        self.wv = Dense(embed_dim)\n",
    "        self.dense = Dense(embed_dim)\n",
    "\n",
    "    def split_heads(self, x, batch_size):\n",
    "        x = tf.reshape(x, (batch_size, -1, self.num_heads, self.att_head_size))\n",
    "        return tf.transpose(x, perm=[0, 2, 1, 3])\n",
    "        \n",
    "    def call(self, q, k, v, mask=None):\n",
    "        batch_size = tf.shape(q)[0]\n",
    "\n",
    "        q = self.split_heads(self.wq(q), batch_size)\n",
    "        k = self.split_heads(self.wk(k), batch_size)\n",
    "        v = self.split_heads(self.wv(v), batch_size)\n",
    "\n",
    "        matmul_qk = tf.matmul(q, k, transpose_b=True)\n",
    "        dk = tf.cast(tf.shape(k)[-1], tf.float32)\n",
    "        scaled_attention_logits = matmul_qk / tf.math.sqrt(dk)\n",
    "\n",
    "        if mask is not None:  \n",
    "            scaled_attention_logits += (mask * -1e9)\n",
    "\n",
    "        attention_w = tf.nn.softmax(scaled_attention_logits, axis=-1)\n",
    "        output = tf.matmul(attention_w, v)\n",
    "\n",
    "        output = tf.transpose(output, perm=[0, 2, 1, 3])\n",
    "        concat_attention = tf.reshape(output, (batch_size, -1, self.embed_dim))\n",
    "        \n",
    "        return self.dense(concat_attention)\n",
    "\n",
    "\n",
    "class FeedForwardNN(Layer):\n",
    "    def __init__(self, embed_dim, dff):\n",
    "        super().__init__()\n",
    "        self.dense1 = Dense(dff, activation='gelu')\n",
    "        self.dense2 = Dense(embed_dim)\n",
    "\n",
    "    def call(self, x):\n",
    "        return self.dense2(self.dense1(x))\n",
    "\n",
    "\n",
    "class Transformer(Layer):\n",
    "    def __init__(self, embed_dim, num_heads, dff, dropout_rate=0.1):\n",
    "        super().__init__()\n",
    "        self.att = MultiHeadSelfAttention(embed_dim, num_heads)\n",
    "        self.ffn = FeedForwardNN(embed_dim, dff)\n",
    "        self.norm1 = LayerNormalization(epsilon=1e-6)\n",
    "        self.norm2 = LayerNormalization(epsilon=1e-6)\n",
    "        self.dropout1 = Dropout(dropout_rate)\n",
    "        self.dropout2 = Dropout(dropout_rate)\n",
    "\n",
    "    def call(self, x, mask=None):\n",
    "        att_output = self.att(x, x, x, mask)\n",
    "        att_output = self.dropout1(att_output)\n",
    "        out1 = self.norm1(x + att_output)\n",
    "\n",
    "        ffn_output = self.ffn(out1)\n",
    "        ffn_output = self.dropout2(ffn_output)\n",
    "\n",
    "        return self.norm2(out1 + ffn_output)\n",
    "\n",
    "\n",
    "class GPT2(Model):\n",
    "    def __init__(self, vocab_size, max_length, embed_dim=768, num_heads=12, dff=3072, num_layers=12, dropout_rate=0.1):\n",
    "        super().__init__()\n",
    "        self.token_emb = Embedding(vocab_size, embed_dim)\n",
    "        self.pos_emb = Embedding(max_length, embed_dim)\n",
    "\n",
    "        self.transformer_blocks = [Transformer(embed_dim, num_heads, dff, dropout_rate) for _ in range(num_layers)]\n",
    "        self.norm = LayerNormalization(epsilon=1e-6)\n",
    "        self.out = Dense(vocab_size)\n",
    "\n",
    "    def create_causal_mask(self, seq_len):\n",
    "        mask = tf.linalg.band_part(tf.ones((seq_len, seq_len)), -1, 0)\n",
    "        return 1 - mask  # Converts upper-triangle values to zero\n",
    "\n",
    "    def call(self, x):\n",
    "        seq_len = tf.shape(x)[1]\n",
    "        mask = self.create_causal_mask(seq_len)\n",
    "\n",
    "        token_emb = self.token_emb(x)\n",
    "        pos_emb = self.pos_emb(tf.range(seq_len)[:, tf.newaxis])\n",
    "        x = token_emb + pos_emb\n",
    "        \n",
    "        for transformer in self.transformer_blocks:\n",
    "            x = transformer(x, mask)\n",
    "\n",
    "        x = self.norm(x)\n",
    "        return self.out(x)\n",
    "\n",
    "\n",
    "# Model Initialization\n",
    "VOCAB_SIZE = 3027\n",
    "MAX_LENGTH = 1027\n",
    "\n",
    "inputs = tf.keras.layers.Input(shape=(MAX_LENGTH,), dtype=tf.int32)\n",
    "output = GPT2(vocab_size=VOCAB_SIZE, max_length=MAX_LENGTH)(inputs)\n",
    "gpt2 = Model(inputs, output)\n",
    "\n",
    "gpt2.build(input_shape=(1, MAX_LENGTH))\n",
    "gpt2.summary()\n"
   ]
  }
 ],
 "metadata": {
  "kernelspec": {
   "display_name": "Python 3 (ipykernel)",
   "language": "python",
   "name": "python3"
  },
  "language_info": {
   "codemirror_mode": {
    "name": "ipython",
    "version": 3
   },
   "file_extension": ".py",
   "mimetype": "text/x-python",
   "name": "python",
   "nbconvert_exporter": "python",
   "pygments_lexer": "ipython3",
   "version": "3.10.5"
  }
 },
 "nbformat": 4,
 "nbformat_minor": 5
}
